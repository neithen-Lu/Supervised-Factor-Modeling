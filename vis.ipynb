{
 "cells": [
  {
   "cell_type": "code",
   "execution_count": 1,
   "metadata": {},
   "outputs": [],
   "source": [
    "import numpy as np\n",
    "import matplotlib.pyplot as plt"
   ]
  },
  {
   "cell_type": "code",
   "execution_count": 2,
   "metadata": {},
   "outputs": [],
   "source": [
    "# model,\n",
    "big_forecast_err_l2 = np.zeros((15,72))\n",
    "big_forecast_err_l1 = np.zeros((15,72))\n",
    "model_idx = []"
   ]
  },
  {
   "cell_type": "code",
   "execution_count": 3,
   "metadata": {},
   "outputs": [
    {
     "name": "stdout",
     "output_type": "stream",
     "text": [
      "result/qd_small/Y_hat_basu_L1_None.npy [2.97625492 8.36271439]\n",
      "result/qd_small/Y_hat_ours_T010_s3_r11_r23_lr1e-06_iter5000.npy [2.92817451 8.19699331]\n"
     ]
    },
    {
     "data": {
      "text/plain": [
       "<Figure size 640x480 with 0 Axes>"
      ]
     },
     "metadata": {},
     "output_type": "display_data"
    }
   ],
   "source": [
    "import glob\n",
    "import os\n",
    "exp_name = 'qd_small'\n",
    "npy_files = glob.glob(os.path.join(\"result\",exp_name, '*.npy'))\n",
    "\n",
    "Y_true = np.load(os.path.join(\"result\",exp_name, 'Y_true.npy'))\n",
    "\n",
    "# Check if there are any .npy files in the folder\n",
    "if not npy_files:\n",
    "    print(f\"No .npy files found in the folder: {exp_name}\")\n",
    "\n",
    "plt.figure()\n",
    "# Loop through each file and plot the time series\n",
    "for i,file in enumerate(npy_files):\n",
    "    if not 'Y_hat' in file:\n",
    "        continue\n",
    "    Y_hat = np.load(file)\n",
    "    model_idx.append(file)\n",
    "\n",
    "    T = Y_true.shape[0]\n",
    "    # T = 60\n",
    "    cum_forecast_err = np.zeros([T,2])\n",
    "    forecast_err = np.zeros([T,2])\n",
    "    for t in range(0,T):\n",
    "        forecast_err[t,0] = np.linalg.norm(Y_hat[t,:]-Y_true[t,:])\n",
    "        forecast_err[t,1] = np.linalg.norm(Y_hat[t,:]-Y_true[t,:],ord=1)\n",
    "        big_forecast_err_l2[len(model_idx)-1,t] = np.linalg.norm(Y_hat[t,:]-Y_true[t,:])\n",
    "        big_forecast_err_l1[len(model_idx)-1,t] = np.linalg.norm(Y_hat[t,:]-Y_true[t,:],ord=1)\n",
    "\n",
    "    print(file,np.mean(forecast_err[-73:-1,:],axis=0))\n",
    "    # Extract the file name without extension for the plot title\n",
    "    file_name = os.path.splitext(os.path.basename(file))[0]"
   ]
  },
  {
   "cell_type": "code",
   "execution_count": null,
   "metadata": {},
   "outputs": [],
   "source": [
    "mlr_yhat = np.genfromtxt(f'result/{exp_name}/Y_hat_MLR.csv', delimiter=',')\n",
    "# T=mlr_yhat.shape[0]\n",
    "model_idx.append('mlr')\n",
    "cum_forecast_err = np.zeros([T,2])\n",
    "forecast_err = np.zeros([T,2])\n",
    "for t in range(0,T):\n",
    "    forecast_err[t,0] = np.linalg.norm(mlr_yhat[t,:]-Y_true[t,:])\n",
    "    forecast_err[t,1] = np.linalg.norm(mlr_yhat[t,:]-Y_true[t,:],ord=1)\n",
    "    big_forecast_err_l2[len(model_idx)-1,t] = np.linalg.norm(mlr_yhat[t,:]-Y_true[t,:])\n",
    "    big_forecast_err_l1[len(model_idx)-1,t] = np.linalg.norm(mlr_yhat[t,:]-Y_true[t,:],ord=1)\n",
    "print(np.mean(forecast_err[-73:-1,:],axis=0))"
   ]
  },
  {
   "cell_type": "code",
   "execution_count": null,
   "metadata": {},
   "outputs": [],
   "source": [
    "shorr_yhat = np.genfromtxt(f'result/{exp_name}/Y_hat_SHORR.csv', delimiter=',')\n",
    "model_idx.append('shorr')\n",
    "cum_forecast_err = np.zeros([T,2])\n",
    "forecast_err = np.zeros([T,2])\n",
    "for t in range(0,T):\n",
    "    forecast_err[t,0] = np.linalg.norm(shorr_yhat[t,:]-Y_true[t,:])\n",
    "    forecast_err[t,1] = np.linalg.norm(shorr_yhat[t,:]-Y_true[t,:],ord=1)\n",
    "    big_forecast_err_l2[len(model_idx)-1,t] = np.linalg.norm(shorr_yhat[t,:]-Y_true[t,:])\n",
    "    big_forecast_err_l1[len(model_idx)-1,t] = np.linalg.norm(shorr_yhat[t,:]-Y_true[t,:],ord=1)\n",
    "print(np.mean(forecast_err[-73:-1,:],axis=0))"
   ]
  },
  {
   "cell_type": "code",
   "execution_count": null,
   "metadata": {},
   "outputs": [],
   "source": [
    "np.savetxt(f'result/{exp_name}_forecast_err_l2.csv',big_forecast_err_l2[-73:-1,:],delimiter=',',newline='\\n')"
   ]
  }
 ],
 "metadata": {
  "kernelspec": {
   "display_name": "base",
   "language": "python",
   "name": "python3"
  },
  "language_info": {
   "codemirror_mode": {
    "name": "ipython",
    "version": 3
   },
   "file_extension": ".py",
   "mimetype": "text/x-python",
   "name": "python",
   "nbconvert_exporter": "python",
   "pygments_lexer": "ipython3",
   "version": "3.11.5"
  }
 },
 "nbformat": 4,
 "nbformat_minor": 2
}
